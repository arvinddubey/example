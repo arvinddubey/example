{
  "nbformat": 4,
  "nbformat_minor": 0,
  "metadata": {
    "colab": {
      "provenance": [],
      "collapsed_sections": [],
      "toc_visible": true,
      "authorship_tag": "ABX9TyPd7zrlKSY1jeWPK/HaBYl6",
      "include_colab_link": true
    },
    "kernelspec": {
      "name": "python3",
      "display_name": "Python 3"
    },
    "language_info": {
      "name": "python"
    }
  },
  "cells": [
    {
      "cell_type": "markdown",
      "metadata": {
        "id": "view-in-github",
        "colab_type": "text"
      },
      "source": [
        "<a href=\"https://colab.research.google.com/github/arvinddubey/example/blob/master/python_assignment_1.ipynb\" target=\"_parent\"><img src=\"https://colab.research.google.com/assets/colab-badge.svg\" alt=\"Open In Colab\"/></a>"
      ]
    },
    {
      "cell_type": "markdown",
      "source": [
        "Find out all the types of error that we have encountered in our lecture and why? Also include the examples.\n",
        "---\n",
        "\n",
        "There are following errors which I encountered -\n",
        "* SyntaxError - If we use wrong syntax.\n",
        "* TypeError - When an operation or fuction applied on an inappropriate data type. \n",
        "* ValueError - In case using correct type but wrong value.\n",
        "* KeyboardInterrupt - If program execution get intruppted in between.\n",
        "* NameError - If we use any variable which doesn't exist.\n"
      ],
      "metadata": {
        "id": "gWFs3TSMw3G-"
      }
    },
    {
      "cell_type": "code",
      "source": [
        "#SyntaxError\n",
        "a=>10"
      ],
      "metadata": {
        "colab": {
          "base_uri": "https://localhost:8080/",
          "height": 134
        },
        "id": "eg-MFPe4zAON",
        "outputId": "581203dd-df45-4eff-8f47-b4b188cdade4"
      },
      "execution_count": 2,
      "outputs": [
        {
          "output_type": "error",
          "ename": "SyntaxError",
          "evalue": "ignored",
          "traceback": [
            "\u001b[0;36m  File \u001b[0;32m\"<ipython-input-2-9026f17af0d2>\"\u001b[0;36m, line \u001b[0;32m2\u001b[0m\n\u001b[0;31m    a=>10\u001b[0m\n\u001b[0m      ^\u001b[0m\n\u001b[0;31mSyntaxError\u001b[0m\u001b[0;31m:\u001b[0m invalid syntax\n"
          ]
        }
      ]
    },
    {
      "cell_type": "code",
      "source": [
        "#TypeError\n",
        "a=10\n",
        "b=\"20\"\n",
        "c = a + b"
      ],
      "metadata": {
        "colab": {
          "base_uri": "https://localhost:8080/",
          "height": 207
        },
        "id": "PYFusRdf0Y2a",
        "outputId": "d5fe3200-cebd-4430-8675-a1fbb3c391da"
      },
      "execution_count": 3,
      "outputs": [
        {
          "output_type": "error",
          "ename": "TypeError",
          "evalue": "ignored",
          "traceback": [
            "\u001b[0;31m---------------------------------------------------------------------------\u001b[0m",
            "\u001b[0;31mTypeError\u001b[0m                                 Traceback (most recent call last)",
            "\u001b[0;32m<ipython-input-3-76275bc8d9ae>\u001b[0m in \u001b[0;36m<module>\u001b[0;34m\u001b[0m\n\u001b[1;32m      2\u001b[0m \u001b[0ma\u001b[0m\u001b[0;34m=\u001b[0m\u001b[0;36m10\u001b[0m\u001b[0;34m\u001b[0m\u001b[0;34m\u001b[0m\u001b[0m\n\u001b[1;32m      3\u001b[0m \u001b[0mb\u001b[0m\u001b[0;34m=\u001b[0m\u001b[0;34m\"20\"\u001b[0m\u001b[0;34m\u001b[0m\u001b[0;34m\u001b[0m\u001b[0m\n\u001b[0;32m----> 4\u001b[0;31m \u001b[0mc\u001b[0m \u001b[0;34m=\u001b[0m \u001b[0ma\u001b[0m \u001b[0;34m+\u001b[0m \u001b[0mb\u001b[0m\u001b[0;34m\u001b[0m\u001b[0;34m\u001b[0m\u001b[0m\n\u001b[0m",
            "\u001b[0;31mTypeError\u001b[0m: unsupported operand type(s) for +: 'int' and 'str'"
          ]
        }
      ]
    },
    {
      "cell_type": "code",
      "source": [
        "#ValueError\n",
        "a = \" \"\n",
        "print(int(a))"
      ],
      "metadata": {
        "colab": {
          "base_uri": "https://localhost:8080/",
          "height": 207
        },
        "id": "5ner25o_0ymD",
        "outputId": "f81a7a18-dda2-419f-a695-174703db5026"
      },
      "execution_count": 4,
      "outputs": [
        {
          "output_type": "error",
          "ename": "ValueError",
          "evalue": "ignored",
          "traceback": [
            "\u001b[0;31m---------------------------------------------------------------------------\u001b[0m",
            "\u001b[0;31mValueError\u001b[0m                                Traceback (most recent call last)",
            "\u001b[0;32m<ipython-input-4-47a7ac837c8a>\u001b[0m in \u001b[0;36m<module>\u001b[0;34m\u001b[0m\n\u001b[1;32m      1\u001b[0m \u001b[0;31m#ValueError\u001b[0m\u001b[0;34m\u001b[0m\u001b[0;34m\u001b[0m\u001b[0;34m\u001b[0m\u001b[0m\n\u001b[1;32m      2\u001b[0m \u001b[0ma\u001b[0m \u001b[0;34m=\u001b[0m \u001b[0;34m\" \"\u001b[0m\u001b[0;34m\u001b[0m\u001b[0;34m\u001b[0m\u001b[0m\n\u001b[0;32m----> 3\u001b[0;31m \u001b[0mprint\u001b[0m\u001b[0;34m(\u001b[0m\u001b[0mint\u001b[0m\u001b[0;34m(\u001b[0m\u001b[0ma\u001b[0m\u001b[0;34m)\u001b[0m\u001b[0;34m)\u001b[0m\u001b[0;34m\u001b[0m\u001b[0;34m\u001b[0m\u001b[0m\n\u001b[0m",
            "\u001b[0;31mValueError\u001b[0m: invalid literal for int() with base 10: ' '"
          ]
        }
      ]
    },
    {
      "cell_type": "code",
      "source": [
        "#KeyboardInterrupt\n",
        "\"\"\"Not sure how to reproduce it\"\"\""
      ],
      "metadata": {
        "colab": {
          "base_uri": "https://localhost:8080/",
          "height": 36
        },
        "id": "tHyWWbsu1Rz7",
        "outputId": "50036171-e822-490d-ff54-5ff14392b24a"
      },
      "execution_count": 5,
      "outputs": [
        {
          "output_type": "execute_result",
          "data": {
            "text/plain": [
              "'Not sure how to reproduce it'"
            ],
            "application/vnd.google.colaboratory.intrinsic+json": {
              "type": "string"
            }
          },
          "metadata": {},
          "execution_count": 5
        }
      ]
    },
    {
      "cell_type": "code",
      "source": [
        "#NameError\n",
        "print(name)"
      ],
      "metadata": {
        "colab": {
          "base_uri": "https://localhost:8080/",
          "height": 189
        },
        "id": "gjTyTnMk1gck",
        "outputId": "a8d1b9ee-c619-4fda-e7df-08cad4038ec8"
      },
      "execution_count": 6,
      "outputs": [
        {
          "output_type": "error",
          "ename": "NameError",
          "evalue": "ignored",
          "traceback": [
            "\u001b[0;31m---------------------------------------------------------------------------\u001b[0m",
            "\u001b[0;31mNameError\u001b[0m                                 Traceback (most recent call last)",
            "\u001b[0;32m<ipython-input-6-2d880c72937b>\u001b[0m in \u001b[0;36m<module>\u001b[0;34m\u001b[0m\n\u001b[1;32m      1\u001b[0m \u001b[0;31m#NameError\u001b[0m\u001b[0;34m\u001b[0m\u001b[0;34m\u001b[0m\u001b[0;34m\u001b[0m\u001b[0m\n\u001b[0;32m----> 2\u001b[0;31m \u001b[0mprint\u001b[0m\u001b[0;34m(\u001b[0m\u001b[0mname\u001b[0m\u001b[0;34m)\u001b[0m\u001b[0;34m\u001b[0m\u001b[0;34m\u001b[0m\u001b[0m\n\u001b[0m",
            "\u001b[0;31mNameError\u001b[0m: name 'name' is not defined"
          ]
        }
      ]
    },
    {
      "cell_type": "markdown",
      "source": [
        "#Take input A and B and print their sum, mul, div, square of the nos.:"
      ],
      "metadata": {
        "id": "99vp-zEq1ssX"
      }
    },
    {
      "cell_type": "code",
      "source": [
        "A = int(input(\"Please enter value of A: \"))\n",
        "B = int(input(\"Please enter value of B: \"))\n",
        "print(f\"Sum of A and B is {A+B}\")\n",
        "print(f\"Multiply of A and B is {A*B}\")\n",
        "print(f\"Division of A and B is {A/B}\")\n",
        "print(f\"Square of A is {A**2}\")"
      ],
      "metadata": {
        "colab": {
          "base_uri": "https://localhost:8080/"
        },
        "id": "zLPvsejd12CY",
        "outputId": "bfd71c78-ba21-4239-c937-853d99ace653"
      },
      "execution_count": 12,
      "outputs": [
        {
          "output_type": "stream",
          "name": "stdout",
          "text": [
            "Please enter value of A: 4\n",
            "Please enter value of B: 2\n",
            "Sum of A and B is 6\n",
            "Multiply of A and B is 8\n",
            "Division of A and B is 2.0\n",
            "Square of A is 16\n"
          ]
        }
      ]
    },
    {
      "cell_type": "markdown",
      "source": [
        "#How many reserve keywords are there in python and why we should not use them as a variable name.\n",
        "There are many reserve keywards in python, and ther are - If, else, elif True, Flase, class, raise, for, and, or, def, del, print, in, try, while, return, break, pass, global, yield, except, lambda, continue, assert, from, None, import.\n",
        "\n"
      ],
      "metadata": {
        "id": "rKov8uzb3Vmv"
      }
    },
    {
      "cell_type": "code",
      "source": [
        "#Get list of reserve keywords\n",
        "help(\"keywords\")"
      ],
      "metadata": {
        "colab": {
          "base_uri": "https://localhost:8080/"
        },
        "id": "FFH7kTtg2ZW9",
        "outputId": "19d2519b-6b32-450e-c8dd-2db93b44a836"
      },
      "execution_count": 14,
      "outputs": [
        {
          "output_type": "stream",
          "name": "stdout",
          "text": [
            "\n",
            "Here is a list of the Python keywords.  Enter any keyword to get more help.\n",
            "\n",
            "False               class               from                or\n",
            "None                continue            global              pass\n",
            "True                def                 if                  raise\n",
            "and                 del                 import              return\n",
            "as                  elif                in                  try\n",
            "assert              else                is                  while\n",
            "async               except              lambda              with\n",
            "await               finally             nonlocal            yield\n",
            "break               for                 not                 \n",
            "\n"
          ]
        }
      ]
    },
    {
      "cell_type": "markdown",
      "source": [
        "#Create email ids with the user inputs. in the following format - lastname.firstname@gmail.com\n"
      ],
      "metadata": {
        "id": "bk6CTVR851n2"
      }
    },
    {
      "cell_type": "code",
      "source": [
        "firstName = input(\"Enter first name: \")\n",
        "lastName = input(\"Enter last name: \")\n",
        "email = f\"{firstName}.{lastName}@gmail.com\"\n",
        "print(email)"
      ],
      "metadata": {
        "colab": {
          "base_uri": "https://localhost:8080/"
        },
        "id": "V6qYgCUG56b-",
        "outputId": "622ee68a-666c-460f-dd6a-d90a6f49031b"
      },
      "execution_count": 17,
      "outputs": [
        {
          "output_type": "stream",
          "name": "stdout",
          "text": [
            "Enter first name: arvind\n",
            "Enter last name: dubey\n",
            "arvind.dubey@gmail.com\n"
          ]
        }
      ]
    },
    {
      "cell_type": "markdown",
      "source": [
        "#Try to print the following lines -\n",
        "- Hi I'm Sunny\n",
        "- My address is 22\\3\n",
        "- I earn 20$ daily."
      ],
      "metadata": {
        "id": "tCM-7AFe6pju"
      }
    },
    {
      "cell_type": "code",
      "source": [
        "print(\"\"\"Hi I'm Sunny\n",
        "My address is 22\\\\3\n",
        "I earn 20$ daily.\n",
        "\"\"\")"
      ],
      "metadata": {
        "colab": {
          "base_uri": "https://localhost:8080/"
        },
        "id": "0ncgoTJS65W1",
        "outputId": "acb8cde2-9f95-4d88-a2a6-e15cbf2582d2"
      },
      "execution_count": 29,
      "outputs": [
        {
          "output_type": "stream",
          "name": "stdout",
          "text": [
            "Hi I'm Sunny\n",
            "My address is 22\\3\n",
            "I earn 20$ daily.\n",
            "\n"
          ]
        }
      ]
    },
    {
      "cell_type": "markdown",
      "source": [
        "#Take user input (name, address, date of birth etc) to fill a form for your college and print their email IDs"
      ],
      "metadata": {
        "id": "-s8G4ZY-7Kqn"
      }
    },
    {
      "cell_type": "code",
      "source": [
        "name = input(\"Enter your name: \")\n",
        "email = input(\"Enter your email: \")\n",
        "address = input(\"Enter your address: \")\n",
        "dob = input(\"Enter your date of birth: \")\n",
        "print(f\"\"\"Student details are below -\n",
        "Name: {name}\n",
        "Email: {email}\n",
        "Address: {address}\n",
        "Date of birth: {dob}\"\"\")"
      ],
      "metadata": {
        "colab": {
          "base_uri": "https://localhost:8080/"
        },
        "id": "cHdyal057OHe",
        "outputId": "ac898484-4c4d-4eae-a8cb-4b9f26c6cd62"
      },
      "execution_count": 20,
      "outputs": [
        {
          "output_type": "stream",
          "name": "stdout",
          "text": [
            "Enter your name: arvind\n",
            "Enter your email: arvind@gmail.com\n",
            "Enter your address: 10/07/1986\n",
            "Enter your date of birth: benglaroe\n",
            "Student details are below -\n",
            "Name: arvind\n",
            "Email: arvind@gmail.com\n",
            "Address: 10/07/1986\n",
            "Date of birth: benglaroe\n"
          ]
        }
      ]
    },
    {
      "cell_type": "markdown",
      "source": [
        "#Convert the following -\n",
        "- \"22.4\" into integer\n",
        "- \"22\" into complex no."
      ],
      "metadata": {
        "id": "RC_nmGSS8yF8"
      }
    },
    {
      "cell_type": "code",
      "source": [
        "#\"22.4\" into integer\n",
        "#It can't be directly converted into integer. We have to follow below steps.\n",
        "a = \"22.4\"\n",
        "a = float(a) # first convert it into float, since the above string is having float value.\n",
        "int(a) # Then finally from float to int\n"
      ],
      "metadata": {
        "colab": {
          "base_uri": "https://localhost:8080/"
        },
        "id": "8tS2uz3w81hh",
        "outputId": "a65341d9-b451-41ee-d78a-6c2cb79d1cb5"
      },
      "execution_count": 27,
      "outputs": [
        {
          "output_type": "execute_result",
          "data": {
            "text/plain": [
              "22"
            ]
          },
          "metadata": {},
          "execution_count": 27
        }
      ]
    },
    {
      "cell_type": "code",
      "source": [
        "#\"22\" into complex no.\n",
        "complex(\"22\")"
      ],
      "metadata": {
        "colab": {
          "base_uri": "https://localhost:8080/"
        },
        "id": "Kevqg9GD9alV",
        "outputId": "3d85740b-36dc-423d-ad0f-8eda9d4757ed"
      },
      "execution_count": 28,
      "outputs": [
        {
          "output_type": "execute_result",
          "data": {
            "text/plain": [
              "(22+0j)"
            ]
          },
          "metadata": {},
          "execution_count": 28
        }
      ]
    }
  ]
}